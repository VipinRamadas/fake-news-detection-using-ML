{
 "cells": [
  {
   "cell_type": "markdown",
   "metadata": {},
   "source": [
    "# Latent Manifold and Regression"
   ]
  },
  {
   "cell_type": "markdown",
   "metadata": {},
   "source": [
    "This example explains Multiple Linear Regression with Python 3, pandas and scikit-learn on Jupyter Notebook. We selected fake news data set. This dataset is not for regression problem so we are doing some more models to get good story.\n",
    "\n",
    "## Requirements\n",
    "To use this example you need Python 3 and latest versions of pandas and scikit-learn. I used Anaconda distribution to install.\n",
    "\n",
    "### Data Set: \n",
    "1.\tKaggle fake news dataset: https://www.kaggle.com/snapcrack/all-the-news\n",
    "2.\tReal News Dataset https://webhose.io/datasets/\n",
    "3.\tDomain Ranking: https://www.rankstore.com/bulk-alexa-rank-checker/#\n",
    "\n",
    "### Data Prep and enrichment: \n",
    "1.\tFixed format of file and data types\n",
    "2.\tFilled several missing values for columns\n",
    "3.\tData Enrichment: Downloaded real news data from webhose and massaged it. Wrote a program to aline format and merge file(File: Webhose_RealNews_DataPull.py). Then added this dimention after transposing to dataset. (enrichment)\n",
    "4.\tDomain ranking is the latent manifold.\n",
    "\n",
    "\n",
    "### ML life-cycle:\n",
    "1.\tBusiness objective connected to it.\n",
    "2.\tData set, data enrichment, wrangle and prepare it.\n",
    "3.\tFind a latent manifold\n",
    "4.\tWhat the data is saying\n",
    "\n",
    "## Algorithm\n",
    "1.\tMultiple Linear Regression."
   ]
  },
  {
   "cell_type": "code",
   "execution_count": 2,
   "metadata": {},
   "outputs": [],
   "source": [
    "# Multiple Linear Regression\n",
    "\n",
    "# Importing the libraries\n",
    "import numpy as np\n",
    "import matplotlib.pyplot as plt\n",
    "import pandas as pd"
   ]
  },
  {
   "cell_type": "code",
   "execution_count": 3,
   "metadata": {},
   "outputs": [
    {
     "name": "stdout",
     "output_type": "stream",
     "text": [
      "(3711, 20)\n"
     ]
    },
    {
     "data": {
      "text/html": [
       "<div>\n",
       "<style scoped>\n",
       "    .dataframe tbody tr th:only-of-type {\n",
       "        vertical-align: middle;\n",
       "    }\n",
       "\n",
       "    .dataframe tbody tr th {\n",
       "        vertical-align: top;\n",
       "    }\n",
       "\n",
       "    .dataframe thead th {\n",
       "        text-align: right;\n",
       "    }\n",
       "</style>\n",
       "<table border=\"1\" class=\"dataframe\">\n",
       "  <thead>\n",
       "    <tr style=\"text-align: right;\">\n",
       "      <th></th>\n",
       "      <th>ord_in_thread</th>\n",
       "      <th>domain_rank</th>\n",
       "      <th>spam_score</th>\n",
       "      <th>replies_count</th>\n",
       "      <th>participants_count</th>\n",
       "      <th>likes</th>\n",
       "      <th>comments</th>\n",
       "      <th>shares</th>\n",
       "    </tr>\n",
       "  </thead>\n",
       "  <tbody>\n",
       "    <tr>\n",
       "      <th>count</th>\n",
       "      <td>3711.000000</td>\n",
       "      <td>3.711000e+03</td>\n",
       "      <td>3711.000000</td>\n",
       "      <td>3711.000000</td>\n",
       "      <td>3711.000000</td>\n",
       "      <td>3711.000000</td>\n",
       "      <td>3711.000000</td>\n",
       "      <td>3711.000000</td>\n",
       "    </tr>\n",
       "    <tr>\n",
       "      <th>mean</th>\n",
       "      <td>1.669631</td>\n",
       "      <td>3.265969e+05</td>\n",
       "      <td>0.044921</td>\n",
       "      <td>2.291296</td>\n",
       "      <td>2.106710</td>\n",
       "      <td>24.406090</td>\n",
       "      <td>0.252493</td>\n",
       "      <td>24.398814</td>\n",
       "    </tr>\n",
       "    <tr>\n",
       "      <th>std</th>\n",
       "      <td>10.162467</td>\n",
       "      <td>1.209855e+06</td>\n",
       "      <td>0.160145</td>\n",
       "      <td>15.017726</td>\n",
       "      <td>9.617506</td>\n",
       "      <td>113.799844</td>\n",
       "      <td>5.814621</td>\n",
       "      <td>113.797344</td>\n",
       "    </tr>\n",
       "    <tr>\n",
       "      <th>min</th>\n",
       "      <td>0.000000</td>\n",
       "      <td>0.000000e+00</td>\n",
       "      <td>0.000000</td>\n",
       "      <td>0.000000</td>\n",
       "      <td>0.000000</td>\n",
       "      <td>0.000000</td>\n",
       "      <td>0.000000</td>\n",
       "      <td>0.000000</td>\n",
       "    </tr>\n",
       "    <tr>\n",
       "      <th>25%</th>\n",
       "      <td>0.000000</td>\n",
       "      <td>2.890000e+02</td>\n",
       "      <td>0.000000</td>\n",
       "      <td>0.000000</td>\n",
       "      <td>0.000000</td>\n",
       "      <td>0.000000</td>\n",
       "      <td>0.000000</td>\n",
       "      <td>0.000000</td>\n",
       "    </tr>\n",
       "    <tr>\n",
       "      <th>50%</th>\n",
       "      <td>0.000000</td>\n",
       "      <td>1.576100e+04</td>\n",
       "      <td>0.000000</td>\n",
       "      <td>0.000000</td>\n",
       "      <td>1.000000</td>\n",
       "      <td>0.000000</td>\n",
       "      <td>0.000000</td>\n",
       "      <td>0.000000</td>\n",
       "    </tr>\n",
       "    <tr>\n",
       "      <th>75%</th>\n",
       "      <td>0.000000</td>\n",
       "      <td>8.194000e+04</td>\n",
       "      <td>0.000000</td>\n",
       "      <td>0.000000</td>\n",
       "      <td>1.000000</td>\n",
       "      <td>0.000000</td>\n",
       "      <td>0.000000</td>\n",
       "      <td>0.000000</td>\n",
       "    </tr>\n",
       "    <tr>\n",
       "      <th>max</th>\n",
       "      <td>100.000000</td>\n",
       "      <td>7.310981e+06</td>\n",
       "      <td>1.000000</td>\n",
       "      <td>500.000000</td>\n",
       "      <td>296.000000</td>\n",
       "      <td>999.000000</td>\n",
       "      <td>319.000000</td>\n",
       "      <td>999.000000</td>\n",
       "    </tr>\n",
       "  </tbody>\n",
       "</table>\n",
       "</div>"
      ],
      "text/plain": [
       "       ord_in_thread   domain_rank   spam_score  replies_count  \\\n",
       "count    3711.000000  3.711000e+03  3711.000000    3711.000000   \n",
       "mean        1.669631  3.265969e+05     0.044921       2.291296   \n",
       "std        10.162467  1.209855e+06     0.160145      15.017726   \n",
       "min         0.000000  0.000000e+00     0.000000       0.000000   \n",
       "25%         0.000000  2.890000e+02     0.000000       0.000000   \n",
       "50%         0.000000  1.576100e+04     0.000000       0.000000   \n",
       "75%         0.000000  8.194000e+04     0.000000       0.000000   \n",
       "max       100.000000  7.310981e+06     1.000000     500.000000   \n",
       "\n",
       "       participants_count        likes     comments       shares  \n",
       "count         3711.000000  3711.000000  3711.000000  3711.000000  \n",
       "mean             2.106710    24.406090     0.252493    24.398814  \n",
       "std              9.617506   113.799844     5.814621   113.797344  \n",
       "min              0.000000     0.000000     0.000000     0.000000  \n",
       "25%              0.000000     0.000000     0.000000     0.000000  \n",
       "50%              1.000000     0.000000     0.000000     0.000000  \n",
       "75%              1.000000     0.000000     0.000000     0.000000  \n",
       "max            296.000000   999.000000   319.000000   999.000000  "
      ]
     },
     "execution_count": 3,
     "metadata": {},
     "output_type": "execute_result"
    }
   ],
   "source": [
    "# Importing the dataset\n",
    "#df = pd.read_csv('RealNewsData1.tsv', delimiter='\\t', quoting=3)#3 - ignores \"\"\n",
    "df = pd.read_csv('fake_real_dataset.csv')\n",
    "#X = dataset.iloc[:, :-1].values\n",
    "#y = dataset.iloc[:, 4].values\n",
    "\n",
    "print(df.shape)\n",
    "df.describe()"
   ]
  },
  {
   "cell_type": "code",
   "execution_count": 3,
   "metadata": {},
   "outputs": [
    {
     "data": {
      "text/plain": [
       "Index(['uuid', 'ord_in_thread', 'author', 'published', 'title', 'text',\n",
       "       'language', 'crawled', 'site_url', 'country', 'domain_rank',\n",
       "       'thread_title', 'spam_score', 'main_img_url', 'replies_count',\n",
       "       'participants_count', 'likes', 'comments', 'shares', 'type'],\n",
       "      dtype='object')"
      ]
     },
     "execution_count": 3,
     "metadata": {},
     "output_type": "execute_result"
    }
   ],
   "source": [
    "df.columns"
   ]
  },
  {
   "cell_type": "code",
   "execution_count": 4,
   "metadata": {},
   "outputs": [
    {
     "name": "stdout",
     "output_type": "stream",
     "text": [
      "(3711, 3)\n",
      "----------\n",
      "[[88465     0]\n",
      " [88465     0]\n",
      " [88465     0]\n",
      " ...\n",
      " [  283     3]\n",
      " [  943     6]\n",
      " [   13     0]]\n"
     ]
    }
   ],
   "source": [
    "# selecting Latent column\n",
    "dft = df.loc[:, ['domain_rank', 'shares', 'type']]\n",
    "print(dft.shape)\n",
    "print('----------')\n",
    "X = dft.iloc[:, :-1].values\n",
    "y = dft.iloc[:, 1].values\n",
    "print(X)"
   ]
  },
  {
   "cell_type": "code",
   "execution_count": 6,
   "metadata": {},
   "outputs": [
    {
     "name": "stdout",
     "output_type": "stream",
     "text": [
      "[0 0 0 ... 3 6 0]\n"
     ]
    }
   ],
   "source": [
    "print(y)"
   ]
  },
  {
   "cell_type": "code",
   "execution_count": 5,
   "metadata": {},
   "outputs": [
    {
     "name": "stdout",
     "output_type": "stream",
     "text": [
      "[0 0 0 ... 3 6 0]\n"
     ]
    }
   ],
   "source": [
    "# LabelEncoder - Encoding categorical data to number, OneHotEncoder - row to column \n",
    "# only used for Type column\n",
    "from sklearn.preprocessing import LabelEncoder, OneHotEncoder\n",
    "labelencoder = LabelEncoder()\n",
    "y = labelencoder.fit_transform(y)\n",
    "#onehotencoder = OneHotEncoder(categorical_features = [0])\n",
    "#y = onehotencoder.fit_transform(y).toarray()\n",
    "print(y)"
   ]
  },
  {
   "cell_type": "code",
   "execution_count": 7,
   "metadata": {},
   "outputs": [
    {
     "data": {
      "text/plain": [
       "<seaborn.axisgrid.FacetGrid at 0x1157d1198>"
      ]
     },
     "execution_count": 7,
     "metadata": {},
     "output_type": "execute_result"
    },
    {
     "data": {
      "image/png": "[encoded data removed]",
      "text/plain": [
       "<Figure size 444.125x360 with 1 Axes>"
      ]
     },
     "metadata": {},
     "output_type": "display_data"
    }
   ],
   "source": [
    "\n",
    "import seaborn as sns\n",
    "sns.set()\n",
    "\n",
    "# Plot\n",
    "g = sns.lmplot(x=\"domain_rank\", y=\"shares\", hue=\"type\",\n",
    "               truncate=True, data=dft)\n",
    "\n",
    "# Use more informative axis labels than are provided by default\n",
    "g.set_axis_labels(\"domain_rank\", \"shares\")\n"
   ]
  },
  {
   "cell_type": "code",
   "execution_count": 8,
   "metadata": {},
   "outputs": [
    {
     "data": {
      "image/png": "[encoded data removed]",
      "text/plain": [
       "<Figure size 444.125x360 with 6 Axes>"
      ]
     },
     "metadata": {},
     "output_type": "display_data"
    }
   ],
   "source": [
    "#Pairplot\n",
    "g = sns.pairplot(dft, kind=\"reg\", hue=\"type\")"
   ]
  },
  {
   "cell_type": "code",
   "execution_count": 9,
   "metadata": {},
   "outputs": [],
   "source": [
    "# Splitting the dataset into the Training set and Test set\n",
    "from sklearn.model_selection import train_test_split\n",
    "X_train, X_test, y_train, y_test = train_test_split(X, y, test_size = 0.2, random_state = 0)"
   ]
  },
  {
   "cell_type": "code",
   "execution_count": 10,
   "metadata": {},
   "outputs": [
    {
     "data": {
      "text/plain": [
       "LinearRegression(copy_X=True, fit_intercept=True, n_jobs=1, normalize=False)"
      ]
     },
     "execution_count": 10,
     "metadata": {},
     "output_type": "execute_result"
    }
   ],
   "source": [
    "# Fitting Multiple Linear Regression to the Training set\n",
    "from sklearn.linear_model import LinearRegression\n",
    "regressor = LinearRegression()\n",
    "regressor.fit(X_train, y_train)"
   ]
  },
  {
   "cell_type": "code",
   "execution_count": 11,
   "metadata": {},
   "outputs": [
    {
     "name": "stdout",
     "output_type": "stream",
     "text": [
      "[24.97602371 25.1873556  21.69848886 25.2417468  25.20779126 25.24297276\n",
      " 25.24351813 25.24214323 25.24336231 25.17770836 25.2417468  24.89373113\n",
      " 25.07321566 25.24389623 25.24325919 25.24336231 25.11423134 24.97602371\n",
      " 25.24297276 25.24389623 25.2417468  25.18757329 25.24297276 24.67707835\n",
      " 25.03886598 25.24389623 25.24213636 25.24389623 25.24297276 25.17770836\n",
      " 25.19173467 25.24325461 25.24389623 25.24309191 25.05614165 25.2417468\n",
      " 25.2417468  25.24325461 21.69848886 25.1873556  25.07321566 25.24316753\n",
      " 25.07321566 21.69848886 24.68415911 24.67707835  8.49074733 25.24389623\n",
      " 25.24297276 24.68415911 24.63208463 22.51462952 25.07321566 25.24324544\n",
      " 22.51462952 25.24350209 25.24302088 25.08457237 25.17770836 21.69848886\n",
      " 25.24317441 24.67707835 25.1873556  25.17770836 25.11423134 25.24297276\n",
      " 22.51462952 25.08457237 24.63208463 25.03886598 24.63208463 25.24319045\n",
      " 25.24251216 25.07321566 25.07321566 25.2438779  25.2417468  25.24389623\n",
      " 25.19173467 25.08457237 24.97602371 24.67707835 25.08457237 24.67707835\n",
      " 25.07321566 23.74248056 25.24303004 25.07321566 25.24297276 25.07321566\n",
      " 25.24297276 25.07718455 25.17770836 24.67707835 25.24297276 24.68415911\n",
      " 24.68415911 21.81553672 25.24296817  8.49074733 25.24336231 25.24214323\n",
      " 25.03886598 24.67707835 25.07321566 24.67707835 25.05614165 25.17770836\n",
      " 25.2417468  25.07321566 25.1873556  25.24297276 25.24324544 25.03886598\n",
      " 25.24389623 25.07321566 25.24389623 25.24253737 25.24290401 25.24284214\n",
      " 22.51462952 25.04118957 25.08457237 25.17770836 24.97602371 25.24297276\n",
      " 25.24389623 25.11423134 25.2438779  25.07718455 25.2420447  25.19173467\n",
      " 25.07321566 25.24325461 25.20779126 24.97602371 25.24350209 25.19173467\n",
      " 25.24389623 25.24325461 25.03886598 25.24213636 25.20779126 24.97602371\n",
      " 25.07321566 25.24297276 25.2417468  25.24173305 25.07321566 25.11423134\n",
      " 24.68415911 25.24297276 25.08457237 25.24389623 25.08457237 25.11423134\n",
      " 25.24336231 25.24297276 25.05614165 25.05614165 25.07321566 25.2417468\n",
      " 25.24336231 25.08457237 24.63208463 25.24316753 25.24297276 25.24325461\n",
      " 25.24274819 24.67707835 18.55142322 25.24325461 25.2423403  25.20779126\n",
      " 25.24358917 25.2417468  25.24318128 25.07321566 22.51462952 25.17770836\n",
      " 25.24302088 25.24389623 25.24348376 25.24297276 24.67707835 25.24290401\n",
      " 24.63208463 25.07718455 25.2417468  25.24325461 25.24325919 25.24389623\n",
      " 24.89373113 25.1873556  25.2421501  25.1873556  24.89373113 24.68415911\n",
      " 25.24389623 25.11423134 21.69848886 25.20779126 25.11423134 25.17770836\n",
      " 25.24297276  8.49074733 25.24256945  8.49074733 24.67707835 24.67707835\n",
      " 24.68415911 25.24319045 24.97602371 25.24324544 25.24324544 22.51462952\n",
      " 25.24196449 25.07718455 22.51462952 18.55142322 25.19173467 25.24325461\n",
      " 25.24324544 25.19173467 25.2427711  24.97602371 25.07718455 24.97602371\n",
      " 25.24325461 25.24325919 25.24389623 25.19173467 21.69848886 25.24336231\n",
      " 25.2417468  25.24336231 25.05614165 25.24324544 25.24325461 25.24253737\n",
      " 25.24297276 25.08457237 25.24253737 25.20779126 25.06236309 25.24353188\n",
      " 25.24389623 25.24213636 25.08457237 25.24325919 24.63208463 25.24297276\n",
      " 25.1873556  25.05614165 25.24257174 24.68415911 25.1873556   8.49074733\n",
      " 24.68415911 25.07718455 25.24253737 25.07718455 25.24389623 25.1873556\n",
      " 24.97602371 21.69848886 25.2420447  25.06236309 25.2417468  25.24372208\n",
      " 25.11423134 25.08457237 25.11423134 25.05614165 25.19173467 25.24325461\n",
      " 24.93257674 25.24389623 25.24251216 25.24325461 25.05614165 22.51462952\n",
      " 25.24297276 25.24389623 25.2417468  25.2421501  25.07321566 25.07321566\n",
      " 25.14808376 25.1873556  25.24389623 25.08457237 25.24320649 24.67707835\n",
      " 25.17770836 25.24324544 25.2437427  25.24253737 25.24184533 25.04118957\n",
      " 24.63208463 25.07718455 25.2420447  22.51462952 25.05614165 25.13885128\n",
      " 25.07718455 25.07321566 25.24325461 25.20779126 25.05614165 24.63208463\n",
      " 25.24297276 25.05614165 25.24297276 25.19173467 25.05614165 24.68415911\n",
      " 21.69848886 25.19173467 25.24335773 25.24389623 25.24297276 25.24303004\n",
      " 25.24297276  8.49074733 25.24267715 25.24297276 25.1873556  25.24297276\n",
      " 25.07321566 21.69848886 25.24325461 25.2417468  25.24297276 25.24256945\n",
      " 25.24297276 25.08457237 25.05614165 25.17770836 25.07321566 25.20779126\n",
      " 25.24389623 25.20779126 24.68415911 25.24325461 25.24336231  8.49074733\n",
      " 25.03886598 24.63208463 24.67707835 25.24297276 25.04118957 25.24359146\n",
      " 24.18155612 25.24325461 25.24325461 25.24325461 25.06236309 25.11423134\n",
      " 25.06236309 25.24247092 25.07321566 25.05614165 25.20779126 25.2437427\n",
      " 25.07718455 25.06236309 25.2437427  22.51462952 25.07718455 21.69848886\n",
      " 24.89373113 25.05614165 24.97602371 25.24389623 25.07321566 25.20779126\n",
      " 25.17770836 24.68415911 24.63208463 24.97602371 25.08457237 25.24297276\n",
      " 25.2438779  25.24324544 25.07718455 25.2417468  25.11423134 25.24269548\n",
      " 25.24389623 25.07321566 25.24338981 25.24389623 25.24325461 25.2417468\n",
      " 25.24231051 25.24297276 24.68415911 25.24349751 25.24358917 25.24342189\n",
      " 24.67707835 25.24246175 25.03886598 25.24324544 25.24351813 25.24389623\n",
      " 25.24325461 25.08457237 25.24325461 25.24325461 25.24179492 24.67707835\n",
      " 25.03886598 25.24389623 25.24368312 24.68415911 25.24297276 25.07718455\n",
      " 25.04118957 25.04118957 25.2437427  25.24297276 25.2438779  25.04118957\n",
      " 25.1873556  25.2438779  25.24325461 25.24389623 25.24351126 24.67707835\n",
      " 24.67707835 24.63208463 25.2417468  25.19173467 25.24228301 25.24297276\n",
      " 25.24389623 24.18155612 25.20779126 25.24251216 25.24389623 25.17770836\n",
      " 24.68415911 25.24389623 25.24389623 22.51462952 25.24389623 25.20779126\n",
      " 24.97602371 25.24297276 25.24389623 25.24358917 21.69848886 25.19173467\n",
      " 25.07718455 25.24297276 25.24345855 25.24320649 25.05614165 25.2437427\n",
      " 25.24325461 25.24389623 25.24351813 24.67707835 25.24325461 24.67707835\n",
      " 21.69848886 22.51462952 25.17770836 25.24297276 25.24325461  8.49074733\n",
      " 25.1873556  25.24277339 25.1873556  22.50085298 25.1873556  25.24389623\n",
      " 25.08457237 25.05614165 21.69848886 25.24213636 25.1873556  25.24325461\n",
      " 25.19173467 25.24247092 25.03886598 25.24324544 25.20779126 25.24349751\n",
      " 25.19173467  8.49074733 24.67707835 25.04118957 25.24213636 22.51462952\n",
      " 25.24179492 25.24389623 25.24179492 25.05614165 25.24181096 25.17770836\n",
      " 25.1873556  25.08457237 25.24325461 25.19173467 25.11423134 25.1873556\n",
      " 25.24281235 24.68415911 24.89373113 24.68415911 25.24303004 25.24368312\n",
      " 25.24389623 25.24228301 25.11423134 21.69848886 25.20779126 24.97602371\n",
      " 25.24316753 25.1873556  25.24228301  8.49074733 25.2437427  25.24389623\n",
      " 25.24358917 24.67707835 25.05614165 25.24336231 25.24324544 25.24389623\n",
      " 25.17770836 25.08457237 25.24325461 25.17770836 25.24389623 25.2438779\n",
      " 25.05614165 25.24324544 25.24324544 25.24214552 25.24213636 25.1873556\n",
      " 25.24297276 25.24325461 25.03886598 25.24389623 25.2417468  22.50085298\n",
      " 25.24336231 25.24358917 25.24389623 21.69848886 25.24320649 25.24389623\n",
      " 25.24179492 25.24320649 25.2417468  25.07718455 25.24324544 25.24291776\n",
      "  8.49074733 25.24347918 25.24383207 25.24202865 25.1873556  25.24209053\n",
      " 25.24297276 25.20779126 24.97602371 24.68767199 25.24349751 25.24253737\n",
      " 25.24297276 25.1873556  25.24350209 24.97602371 25.07321566 24.63208463\n",
      " 25.24325461 25.24303004 25.24389623 25.24345855 25.24297276 25.07718455\n",
      " 25.24181096 25.24325461 25.24213636 25.07718455 25.03886598  8.49074733\n",
      " 25.1873556  25.24389623 25.04118957 25.05614165 25.20779126 25.24351126\n",
      " 25.24325461 25.24274819 25.05614165 25.20779126 23.74248056  8.49074733\n",
      " 25.24257174 25.24325461 25.20779126 25.24350209 25.24297276 25.24325461\n",
      " 22.51462952 25.24228301 25.19173467 25.24230593 24.97602371 25.24345855\n",
      " 24.68415911 25.24336231 25.24389623 25.24336231 23.74248056 25.20779126\n",
      " 25.24303004 25.20779126 25.24325461 25.24389623 25.07321566 25.24389623\n",
      " 25.07718455 25.24325461 25.24389623 25.24324544 25.24253737 18.88406518\n",
      " 25.24230364 21.69848886 25.24389623 25.24324544 24.97602371 24.63208463\n",
      " 24.97602371 25.24325461 25.1873556  25.05614165 25.24182013 21.69848886\n",
      " 25.24297276 25.24297276 25.24214552 25.10353917 25.07718455 25.17770836\n",
      " 25.20779126 24.68415911 25.24325461 24.67707835 25.24372208 25.24325461\n",
      " 25.17770836 25.24213636 25.05614165 25.24389623 25.2417468  22.51462952\n",
      " 25.08457237 25.07718455 24.67707835 25.24389623 25.24213636 25.24320649\n",
      "  8.49074733 24.89373113 25.07718455 24.97602371 25.2438779  25.11423134\n",
      " 25.24173076 25.24214323 25.24247092 24.68415911 23.74248056 25.24202865\n",
      " 24.67707835 25.24389623 25.24324544 25.24324544 25.24297276 25.05614165\n",
      " 25.24324544 25.07321566 25.11423134 25.24297276 21.69848886 25.24389623\n",
      " 25.07718455 25.08457237 25.24336231 25.11423134 25.04118957 25.03886598\n",
      " 25.24325461 25.24349751 25.24172388 25.24351813 25.24297276 24.97602371\n",
      " 25.24251216 25.24324544 25.24324544 25.20779126 25.24297276 25.10353917\n",
      " 24.18155612 25.24297276 25.24336231 25.24325461 25.2437427  22.51462952\n",
      " 25.07718455 21.69848886 25.24336231 25.24297276 25.20779126 25.2417468\n",
      " 24.68415911 25.07321566 21.69848886 25.06236309 25.20779126 25.24350209\n",
      " 25.24325461 25.10353917 25.17770836 25.24389623 25.24297276 25.24297276\n",
      " 24.68545381 25.07321566 25.24267715 21.69848886 25.08457237]\n"
     ]
    }
   ],
   "source": [
    "# Predicting the Test set results\n",
    "y_pred = regressor.predict(X_test)\n",
    "print(y_pred)"
   ]
  },
  {
   "cell_type": "code",
   "execution_count": 12,
   "metadata": {},
   "outputs": [
    {
     "data": {
      "image/png": "[encoded data removed]",
      "text/plain": [
       "<Figure size 432x288 with 1 Axes>"
      ]
     },
     "metadata": {},
     "output_type": "display_data"
    }
   ],
   "source": [
    "# Visualising the Training set results\n",
    "plt.scatter(X_train, y_train, color = 'red')\n",
    "plt.plot(X_train, regressor.predict(X_train), color = 'green')\n",
    "plt.title('Domain Rank vs share (Training set)')\n",
    "plt.xlabel('Domain Rank')\n",
    "plt.ylabel('Share')\n",
    "plt.show()"
   ]
  },
  {
   "cell_type": "code",
   "execution_count": 13,
   "metadata": {},
   "outputs": [
    {
     "data": {
      "image/png": "[encoded data removed]",
      "text/plain": [
       "<Figure size 432x288 with 1 Axes>"
      ]
     },
     "metadata": {},
     "output_type": "display_data"
    }
   ],
   "source": [
    "# Visualising the Test set results\n",
    "plt.scatter(X_test, y_test, color = 'red')\n",
    "plt.plot(X_train, regressor.predict(X_train), color = 'green')\n",
    "plt.title('Domain Rank vs Sbhare (Test set)')\n",
    "plt.xlabel('Domain Rank')\n",
    "plt.ylabel('Share')\n",
    "plt.show()"
   ]
  },
  {
   "cell_type": "markdown",
   "metadata": {},
   "source": [
    "# Evaluating Model"
   ]
  },
  {
   "cell_type": "markdown",
   "metadata": {},
   "source": [
    "Calculate the Mean Absolute Error, Mean Squared Error, and the Root Mean Squared Error."
   ]
  },
  {
   "cell_type": "code",
   "execution_count": 14,
   "metadata": {},
   "outputs": [],
   "source": [
    "from sklearn import metrics"
   ]
  },
  {
   "cell_type": "code",
   "execution_count": 16,
   "metadata": {},
   "outputs": [
    {
     "name": "stdout",
     "output_type": "stream",
     "text": [
      "MAE: 43.774115065255494\n",
      "MSE: 12768.482118816104\n",
      "RMSE: 112.99770846710169\n"
     ]
    }
   ],
   "source": [
    "# calculate these metrics by hand!\n",
    "from sklearn import metrics\n",
    "\n",
    "print('MAE:', metrics.mean_absolute_error(y_test, y_pred))\n",
    "print('MSE:', metrics.mean_squared_error(y_test, y_pred))\n",
    "print('RMSE:', np.sqrt(metrics.mean_squared_error(y_test, y_pred)))"
   ]
  },
  {
   "cell_type": "markdown",
   "metadata": {},
   "source": [
    "# Residuals"
   ]
  },
  {
   "cell_type": "code",
   "execution_count": 17,
   "metadata": {},
   "outputs": [
    {
     "name": "stderr",
     "output_type": "stream",
     "text": [
      "/Users/mk194903/anaconda3/lib/python3.6/site-packages/matplotlib/axes/_axes.py:6462: UserWarning: The 'normed' kwarg is deprecated, and has been replaced by the 'density' kwarg.\n",
      "  warnings.warn(\"The 'normed' kwarg is deprecated, and has been \"\n"
     ]
    },
    {
     "data": {
      "image/png": "[encoded data removed]",
      "text/plain": [
       "<Figure size 432x288 with 1 Axes>"
      ]
     },
     "metadata": {},
     "output_type": "display_data"
    }
   ],
   "source": [
    "# The normal distributions of residuals indicate that the model is a very good fit.\n",
    "\n",
    "sns.distplot((y_test-y_pred),bins=50);"
   ]
  },
  {
   "cell_type": "markdown",
   "metadata": {},
   "source": [
    "# Story \n",
    "As domain ranking grows people becomes less likely to share. Ideally, there is not regression."
   ]
  }
 ],
 "metadata": {
  "kernelspec": {
   "display_name": "Python 3",
   "language": "python",
   "name": "python3"
  },
  "language_info": {
   "codemirror_mode": {
    "name": "ipython",
    "version": 3
   },
   "file_extension": ".py",
   "mimetype": "text/x-python",
   "name": "python",
   "nbconvert_exporter": "python",
   "pygments_lexer": "ipython3",
   "version": "3.6.6"
  }
 },
 "nbformat": 4,
 "nbformat_minor": 2
}
